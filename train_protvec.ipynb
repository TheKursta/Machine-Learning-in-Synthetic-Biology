{
 "cells": [
  {
   "cell_type": "code",
   "execution_count": 1,
   "id": "fd969e65",
   "metadata": {},
   "outputs": [],
   "source": [
    "import numpy as np\n",
    "import pandas as pd\n",
    "from sklearn.model_selection import train_test_split\n",
    "import matplotlib.pyplot as plt\n",
    "\n",
    "\n",
    "import tensorflow as tf\n",
    "\n",
    "from tensorflow import keras\n",
    "from tensorflow.keras import layers\n",
    "from tensorflow.keras.layers.experimental import preprocessing\n",
    "\n",
    "import numpy as np\n",
    "import pandas as pd"
   ]
  },
  {
   "cell_type": "code",
   "execution_count": null,
   "id": "4377e008",
   "metadata": {},
   "outputs": [],
   "source": []
  },
  {
   "cell_type": "code",
   "execution_count": 2,
   "id": "e4a57768",
   "metadata": {},
   "outputs": [],
   "source": [
    "input_data = \"./data/protvec_concat.csv\""
   ]
  },
  {
   "cell_type": "code",
   "execution_count": 3,
   "id": "0a0020fe",
   "metadata": {},
   "outputs": [
    {
     "data": {
      "text/html": [
       "<div>\n",
       "<style scoped>\n",
       "    .dataframe tbody tr th:only-of-type {\n",
       "        vertical-align: middle;\n",
       "    }\n",
       "\n",
       "    .dataframe tbody tr th {\n",
       "        vertical-align: top;\n",
       "    }\n",
       "\n",
       "    .dataframe thead th {\n",
       "        text-align: right;\n",
       "    }\n",
       "</style>\n",
       "<table border=\"1\" class=\"dataframe\">\n",
       "  <thead>\n",
       "    <tr style=\"text-align: right;\">\n",
       "      <th></th>\n",
       "      <th>Sequence</th>\n",
       "      <th>Description</th>\n",
       "      <th>Ligand</th>\n",
       "      <th>Data</th>\n",
       "      <th>Units</th>\n",
       "      <th>Assay/Protocol</th>\n",
       "      <th>protein_name</th>\n",
       "      <th>embedding</th>\n",
       "    </tr>\n",
       "  </thead>\n",
       "  <tbody>\n",
       "    <tr>\n",
       "      <th>0</th>\n",
       "      <td>MSEGEELFAGVVPILVELDGDVNGHKFSVSGEGEGDATYGKLTLKF...</td>\n",
       "      <td>K1E+T7A+V53E+M231K</td>\n",
       "      <td>NaN</td>\n",
       "      <td>1.301</td>\n",
       "      <td>unitless</td>\n",
       "      <td>Brightness</td>\n",
       "      <td>0</td>\n",
       "      <td>[-34.78867530822754, 15.336106777191162, -1.53...</td>\n",
       "    </tr>\n",
       "    <tr>\n",
       "      <th>1</th>\n",
       "      <td>MSEGEELFAGVVPILVELDGDVNGHKFSVSGEGEGDATYGKLTLKF...</td>\n",
       "      <td>K1E+T7A+M76L+M231T</td>\n",
       "      <td>NaN</td>\n",
       "      <td>3.702</td>\n",
       "      <td>unitless</td>\n",
       "      <td>Brightness</td>\n",
       "      <td>1</td>\n",
       "      <td>[-35.28597164154053, 15.255088329315186, -1.41...</td>\n",
       "    </tr>\n",
       "    <tr>\n",
       "      <th>2</th>\n",
       "      <td>MSEGEELFAGVVPILVELDGDVNGHKFSVSGEGEGDATYGKLTLKF...</td>\n",
       "      <td>K1E+T7A+N133D</td>\n",
       "      <td>NaN</td>\n",
       "      <td>3.689</td>\n",
       "      <td>unitless</td>\n",
       "      <td>Brightness</td>\n",
       "      <td>2</td>\n",
       "      <td>[-35.00419235229492, 15.716545581817627, -1.94...</td>\n",
       "    </tr>\n",
       "    <tr>\n",
       "      <th>3</th>\n",
       "      <td>MSEGEELFPGVVPILVELDGDVNGHKFSVSGEGEGDATYGKLTPKF...</td>\n",
       "      <td>K1E+T7P+L42P+Y180N+T184S+A204T</td>\n",
       "      <td>NaN</td>\n",
       "      <td>1.301</td>\n",
       "      <td>unitless</td>\n",
       "      <td>Brightness</td>\n",
       "      <td>3</td>\n",
       "      <td>[-35.52539253234863, 16.391460418701172, -1.95...</td>\n",
       "    </tr>\n",
       "    <tr>\n",
       "      <th>4</th>\n",
       "      <td>MSEGEELFSGVVPILVELDGDVNGHKFSVSGEGEGDATYGKLTLKF...</td>\n",
       "      <td>K1E+T7S+F98Y+K154R+E170G</td>\n",
       "      <td>NaN</td>\n",
       "      <td>3.647</td>\n",
       "      <td>unitless</td>\n",
       "      <td>Brightness</td>\n",
       "      <td>4</td>\n",
       "      <td>[-36.19503211975098, 16.013515949249268, -2.38...</td>\n",
       "    </tr>\n",
       "  </tbody>\n",
       "</table>\n",
       "</div>"
      ],
      "text/plain": [
       "                                            Sequence  \\\n",
       "0  MSEGEELFAGVVPILVELDGDVNGHKFSVSGEGEGDATYGKLTLKF...   \n",
       "1  MSEGEELFAGVVPILVELDGDVNGHKFSVSGEGEGDATYGKLTLKF...   \n",
       "2  MSEGEELFAGVVPILVELDGDVNGHKFSVSGEGEGDATYGKLTLKF...   \n",
       "3  MSEGEELFPGVVPILVELDGDVNGHKFSVSGEGEGDATYGKLTPKF...   \n",
       "4  MSEGEELFSGVVPILVELDGDVNGHKFSVSGEGEGDATYGKLTLKF...   \n",
       "\n",
       "                      Description  Ligand   Data     Units Assay/Protocol  \\\n",
       "0              K1E+T7A+V53E+M231K     NaN  1.301  unitless     Brightness   \n",
       "1              K1E+T7A+M76L+M231T     NaN  3.702  unitless     Brightness   \n",
       "2                   K1E+T7A+N133D     NaN  3.689  unitless     Brightness   \n",
       "3  K1E+T7P+L42P+Y180N+T184S+A204T     NaN  1.301  unitless     Brightness   \n",
       "4        K1E+T7S+F98Y+K154R+E170G     NaN  3.647  unitless     Brightness   \n",
       "\n",
       "   protein_name                                          embedding  \n",
       "0             0  [-34.78867530822754, 15.336106777191162, -1.53...  \n",
       "1             1  [-35.28597164154053, 15.255088329315186, -1.41...  \n",
       "2             2  [-35.00419235229492, 15.716545581817627, -1.94...  \n",
       "3             3  [-35.52539253234863, 16.391460418701172, -1.95...  \n",
       "4             4  [-36.19503211975098, 16.013515949249268, -2.38...  "
      ]
     },
     "execution_count": 3,
     "metadata": {},
     "output_type": "execute_result"
    }
   ],
   "source": [
    "data = pd.read_csv(input_data)\n",
    "data.head()"
   ]
  },
  {
   "cell_type": "code",
   "execution_count": 4,
   "id": "11e01875",
   "metadata": {},
   "outputs": [
    {
     "name": "stdout",
     "output_type": "stream",
     "text": [
      "1997\n"
     ]
    }
   ],
   "source": [
    "#should return 100 units\n",
    "print(len(data.loc[0,\"embedding\"]))"
   ]
  },
  {
   "cell_type": "code",
   "execution_count": 5,
   "id": "609b240b",
   "metadata": {},
   "outputs": [
    {
     "name": "stdout",
     "output_type": "stream",
     "text": [
      "0\n"
     ]
    }
   ],
   "source": [
    "#validate data for nans\n",
    "print(data[\"embedding\"].isnull().sum())"
   ]
  },
  {
   "cell_type": "code",
   "execution_count": 6,
   "id": "5d6246fd",
   "metadata": {},
   "outputs": [
    {
     "name": "stdout",
     "output_type": "stream",
     "text": [
      "train size  (49127, 100)\n",
      "test size  (2586, 100)\n"
     ]
    }
   ],
   "source": [
    "# we select the feature vector and value that we want to train/predict upon\n",
    "embeddings = data[\"embedding\"].to_numpy()\n",
    "y = data[\"Data\"].to_numpy()\n",
    "\n",
    "# we select test data split\n",
    "X_train, X_test, y_train, y_test = train_test_split(embeddings, y,random_state = 1, shuffle = True, \n",
    "                                                test_size=0.05)\n",
    "\n",
    "# we convert each feature list to be a numpy array\n",
    "def list_2_num(lst):\n",
    "    num = [float(i) for i in lst]\n",
    "    return num\n",
    "    \n",
    "\n",
    "X_train = np.array([np.array(list_2_num(xi[1:-1].split(\",\"))) for xi in X_train])\n",
    "X_test = np.array([np.array(list_2_num(xi[1:-1].split(\",\"))) for xi in X_test])\n",
    "\n",
    "# we convert each \n",
    "\n",
    "print(\"train size \", X_train.shape)\n",
    "print(\"test size \", X_test.shape)"
   ]
  },
  {
   "cell_type": "code",
   "execution_count": 7,
   "id": "1362d5b1",
   "metadata": {},
   "outputs": [
    {
     "name": "stdout",
     "output_type": "stream",
     "text": [
      "Model: \"sequential\"\n",
      "_________________________________________________________________\n",
      "Layer (type)                 Output Shape              Param #   \n",
      "=================================================================\n",
      "normalization (Normalization (None, 100)               201       \n",
      "_________________________________________________________________\n",
      "dense (Dense)                (None, 500)               50500     \n",
      "_________________________________________________________________\n",
      "dense_1 (Dense)              (None, 500)               250500    \n",
      "_________________________________________________________________\n",
      "dense_2 (Dense)              (None, 50)                25050     \n",
      "_________________________________________________________________\n",
      "dense_3 (Dense)              (None, 1)                 51        \n",
      "=================================================================\n",
      "Total params: 326,302\n",
      "Trainable params: 326,101\n",
      "Non-trainable params: 201\n",
      "_________________________________________________________________\n"
     ]
    }
   ],
   "source": [
    "#building model\n",
    "\n",
    "#first normaliztion layer is created to push values between -1 and 1\n",
    "#normalizer = preprocessing.Normalization(input_shape=[100,])\n",
    "#normalizer.adapt(X_train)\n",
    "\n",
    "normalizer = preprocessing.Normalization()\n",
    "normalizer.adapt(X_train)\n",
    "normalized_data = normalizer(X_train)\n",
    "\n",
    "#next we build model with 5 hidden layers - [100,50,25,1]\n",
    "model = tf.keras.Sequential([\n",
    "    normalizer,\n",
    "    layers.Dense(units=500, activation = \"sigmoid\"),\n",
    "    layers.Dense(units=500, activation = \"relu\"),\n",
    "    layers.Dense(units=50, activation = \"relu\"),\n",
    "    layers.Dense(units=1)\n",
    "])\n",
    "\n",
    "model.compile(\n",
    "    optimizer=tf.optimizers.Adam(learning_rate=0.0001),\n",
    "    loss='mean_absolute_error', metrics=['mae'])\n",
    "\n",
    "model.summary()"
   ]
  },
  {
   "cell_type": "code",
   "execution_count": 8,
   "id": "b2d4ef19",
   "metadata": {},
   "outputs": [
    {
     "name": "stdout",
     "output_type": "stream",
     "text": [
      "Epoch 1/50\n",
      "1536/1536 [==============================] - 2s 1ms/step - loss: 0.7677 - mae: 0.7677 - val_loss: 0.6021 - val_mae: 0.6021\n",
      "Epoch 2/50\n",
      "1536/1536 [==============================] - 1s 973us/step - loss: 0.5803 - mae: 0.5803 - val_loss: 0.5422 - val_mae: 0.5422\n",
      "Epoch 3/50\n",
      "1536/1536 [==============================] - 1s 972us/step - loss: 0.5267 - mae: 0.5267 - val_loss: 0.5120 - val_mae: 0.5120\n",
      "Epoch 4/50\n",
      "1536/1536 [==============================] - 2s 999us/step - loss: 0.4977 - mae: 0.4977 - val_loss: 0.4898 - val_mae: 0.4898\n",
      "Epoch 5/50\n",
      "1536/1536 [==============================] - 2s 998us/step - loss: 0.4842 - mae: 0.4842 - val_loss: 0.5177 - val_mae: 0.5177\n",
      "Epoch 6/50\n",
      "1536/1536 [==============================] - 2s 997us/step - loss: 0.4648 - mae: 0.4648 - val_loss: 0.4544 - val_mae: 0.4544\n",
      "Epoch 7/50\n",
      "1536/1536 [==============================] - 2s 999us/step - loss: 0.4514 - mae: 0.4514 - val_loss: 0.4741 - val_mae: 0.4741\n",
      "Epoch 8/50\n",
      "1536/1536 [==============================] - 2s 1ms/step - loss: 0.4344 - mae: 0.4344 - val_loss: 0.4581 - val_mae: 0.4581\n",
      "Epoch 9/50\n",
      "1536/1536 [==============================] - 1s 976us/step - loss: 0.4209 - mae: 0.4209 - val_loss: 0.4358 - val_mae: 0.4358\n",
      "Epoch 10/50\n",
      "1536/1536 [==============================] - 2s 990us/step - loss: 0.4057 - mae: 0.4057 - val_loss: 0.4291 - val_mae: 0.4291\n",
      "Epoch 11/50\n",
      "1536/1536 [==============================] - 2s 994us/step - loss: 0.3955 - mae: 0.3955 - val_loss: 0.4121 - val_mae: 0.4121\n",
      "Epoch 12/50\n",
      "1536/1536 [==============================] - 2s 991us/step - loss: 0.3812 - mae: 0.3812 - val_loss: 0.3998 - val_mae: 0.3998\n",
      "Epoch 13/50\n",
      "1536/1536 [==============================] - 2s 984us/step - loss: 0.3753 - mae: 0.3753 - val_loss: 0.3896 - val_mae: 0.3896\n",
      "Epoch 14/50\n",
      "1536/1536 [==============================] - 2s 981us/step - loss: 0.3685 - mae: 0.3685 - val_loss: 0.3898 - val_mae: 0.3898\n",
      "Epoch 15/50\n",
      "1536/1536 [==============================] - 1s 955us/step - loss: 0.3551 - mae: 0.3551 - val_loss: 0.3780 - val_mae: 0.3780\n",
      "Epoch 16/50\n",
      "1536/1536 [==============================] - 2s 993us/step - loss: 0.3472 - mae: 0.3472 - val_loss: 0.3647 - val_mae: 0.3647\n",
      "Epoch 17/50\n",
      "1536/1536 [==============================] - 2s 983us/step - loss: 0.3405 - mae: 0.3405 - val_loss: 0.3610 - val_mae: 0.3610\n",
      "Epoch 18/50\n",
      "1536/1536 [==============================] - 2s 983us/step - loss: 0.3299 - mae: 0.3299 - val_loss: 0.3687 - val_mae: 0.3687\n",
      "Epoch 19/50\n",
      "1536/1536 [==============================] - 2s 1ms/step - loss: 0.3230 - mae: 0.3230 - val_loss: 0.3665 - val_mae: 0.3665\n",
      "Epoch 20/50\n",
      "1536/1536 [==============================] - 2s 992us/step - loss: 0.3175 - mae: 0.3175 - val_loss: 0.3462 - val_mae: 0.3462\n",
      "Epoch 21/50\n",
      "1536/1536 [==============================] - 2s 992us/step - loss: 0.3070 - mae: 0.3070 - val_loss: 0.3396 - val_mae: 0.3396\n",
      "Epoch 22/50\n",
      "1536/1536 [==============================] - 2s 1ms/step - loss: 0.2988 - mae: 0.2988 - val_loss: 0.3413 - val_mae: 0.3413\n",
      "Epoch 23/50\n",
      "1536/1536 [==============================] - 2s 1ms/step - loss: 0.2991 - mae: 0.2991 - val_loss: 0.3383 - val_mae: 0.3383\n",
      "Epoch 24/50\n",
      "1536/1536 [==============================] - 2s 1ms/step - loss: 0.2952 - mae: 0.2952 - val_loss: 0.3343 - val_mae: 0.3343\n",
      "Epoch 25/50\n",
      "1536/1536 [==============================] - 2s 1ms/step - loss: 0.2884 - mae: 0.2884 - val_loss: 0.3307 - val_mae: 0.3307\n",
      "Epoch 26/50\n",
      "1536/1536 [==============================] - 2s 986us/step - loss: 0.2844 - mae: 0.2844 - val_loss: 0.3278 - val_mae: 0.3278\n",
      "Epoch 27/50\n",
      "1536/1536 [==============================] - 2s 1ms/step - loss: 0.2779 - mae: 0.2779 - val_loss: 0.3242 - val_mae: 0.3242\n",
      "Epoch 28/50\n",
      "1536/1536 [==============================] - 2s 1ms/step - loss: 0.2698 - mae: 0.2698 - val_loss: 0.3277 - val_mae: 0.3277\n",
      "Epoch 29/50\n",
      "1536/1536 [==============================] - 2s 1ms/step - loss: 0.2687 - mae: 0.2687 - val_loss: 0.3195 - val_mae: 0.3195\n",
      "Epoch 30/50\n",
      "1536/1536 [==============================] - 2s 1ms/step - loss: 0.2618 - mae: 0.2618 - val_loss: 0.3207 - val_mae: 0.3207\n",
      "Epoch 31/50\n",
      "1536/1536 [==============================] - 2s 1ms/step - loss: 0.2573 - mae: 0.2573 - val_loss: 0.3148 - val_mae: 0.3148\n",
      "Epoch 32/50\n",
      "1536/1536 [==============================] - 2s 1ms/step - loss: 0.2584 - mae: 0.2584 - val_loss: 0.3091 - val_mae: 0.3091\n",
      "Epoch 33/50\n",
      "1536/1536 [==============================] - 2s 1ms/step - loss: 0.2548 - mae: 0.2548 - val_loss: 0.3104 - val_mae: 0.3104\n",
      "Epoch 34/50\n",
      "1536/1536 [==============================] - 2s 1ms/step - loss: 0.2534 - mae: 0.2534 - val_loss: 0.3060 - val_mae: 0.3060\n",
      "Epoch 35/50\n",
      "1536/1536 [==============================] - 2s 1ms/step - loss: 0.2487 - mae: 0.2487 - val_loss: 0.3127 - val_mae: 0.3127\n",
      "Epoch 36/50\n",
      "1536/1536 [==============================] - 2s 1ms/step - loss: 0.2453 - mae: 0.2453 - val_loss: 0.3115 - val_mae: 0.3115\n",
      "Epoch 37/50\n",
      "1536/1536 [==============================] - 2s 994us/step - loss: 0.2429 - mae: 0.2429 - val_loss: 0.3076 - val_mae: 0.3076\n",
      "Epoch 38/50\n",
      "1536/1536 [==============================] - 1s 968us/step - loss: 0.2404 - mae: 0.2404 - val_loss: 0.3060 - val_mae: 0.3060\n",
      "Epoch 39/50\n",
      "1536/1536 [==============================] - 2s 979us/step - loss: 0.2372 - mae: 0.2372 - val_loss: 0.3062 - val_mae: 0.3062\n",
      "Epoch 40/50\n",
      "1536/1536 [==============================] - 2s 992us/step - loss: 0.2356 - mae: 0.2356 - val_loss: 0.3040 - val_mae: 0.3040\n",
      "Epoch 41/50\n",
      "1536/1536 [==============================] - 2s 979us/step - loss: 0.2306 - mae: 0.2306 - val_loss: 0.3004 - val_mae: 0.3004\n",
      "Epoch 42/50\n",
      "1536/1536 [==============================] - 1s 973us/step - loss: 0.2304 - mae: 0.2304 - val_loss: 0.3100 - val_mae: 0.3100\n",
      "Epoch 43/50\n",
      "1536/1536 [==============================] - 2s 984us/step - loss: 0.2267 - mae: 0.2267 - val_loss: 0.2984 - val_mae: 0.2984\n",
      "Epoch 44/50\n",
      "1536/1536 [==============================] - 2s 984us/step - loss: 0.2243 - mae: 0.2243 - val_loss: 0.3085 - val_mae: 0.3085\n",
      "Epoch 45/50\n",
      "1536/1536 [==============================] - 2s 981us/step - loss: 0.2231 - mae: 0.2231 - val_loss: 0.2929 - val_mae: 0.2929\n",
      "Epoch 46/50\n",
      "1536/1536 [==============================] - 2s 995us/step - loss: 0.2183 - mae: 0.2183 - val_loss: 0.2959 - val_mae: 0.2959\n",
      "Epoch 47/50\n",
      "1536/1536 [==============================] - 2s 978us/step - loss: 0.2177 - mae: 0.2177 - val_loss: 0.2984 - val_mae: 0.2984\n",
      "Epoch 48/50\n",
      "1536/1536 [==============================] - 1s 955us/step - loss: 0.2137 - mae: 0.2137 - val_loss: 0.2966 - val_mae: 0.2966\n",
      "Epoch 49/50\n",
      "1536/1536 [==============================] - 1s 972us/step - loss: 0.2131 - mae: 0.2131 - val_loss: 0.3015 - val_mae: 0.3015\n",
      "Epoch 50/50\n",
      "1536/1536 [==============================] - 1s 965us/step - loss: 0.2093 - mae: 0.2093 - val_loss: 0.2935 - val_mae: 0.2935\n"
     ]
    }
   ],
   "source": [
    "history = model.fit(\n",
    "    X_train, y_train,\n",
    "    epochs=50,\n",
    "    verbose=1,\n",
    "    validation_data = (X_test, y_test)\n",
    "    \n",
    "    #We make additional 20% validation split to calculate metrics during training\n",
    "    #validation_split = 0.2\n",
    "    )\n"
   ]
  },
  {
   "cell_type": "code",
   "execution_count": 16,
   "id": "beb4b05e",
   "metadata": {},
   "outputs": [
    {
     "data": {
      "image/png": "[encoded data removed]",
      "text/plain": [
       "<Figure size 432x288 with 1 Axes>"
      ]
     },
     "metadata": {
      "needs_background": "light"
     },
     "output_type": "display_data"
    }
   ],
   "source": [
    "#validation results\n",
    "def plot_loss(history):\n",
    "    plt.plot(history.history['loss'], label='loss')\n",
    "    plt.plot(history.history['val_loss'], label='test_loss')\n",
    "    plt.ylim([0, 1])\n",
    "    plt.xlabel('Epoch, n')\n",
    "    plt.ylabel('Error, mse')\n",
    "    plt.legend()\n",
    "    plt.grid(True)\n",
    "\n",
    "plot_loss(history)"
   ]
  },
  {
   "cell_type": "code",
   "execution_count": 15,
   "id": "a0d0e046",
   "metadata": {},
   "outputs": [
    {
     "data": {
      "text/plain": [
       "Text(0, 0.5, 'Predicted flourescence values, (log)')"
      ]
     },
     "execution_count": 15,
     "metadata": {},
     "output_type": "execute_result"
    },
    {
     "data": {
      "image/png": "[encoded data removed]",
      "text/plain": [
       "<Figure size 432x288 with 1 Axes>"
      ]
     },
     "metadata": {
      "needs_background": "light"
     },
     "output_type": "display_data"
    }
   ],
   "source": [
    "import numpy as np\n",
    "import numpy.random\n",
    "import matplotlib.pyplot as plt\n",
    "from scipy.ndimage.filters import gaussian_filter\n",
    "\n",
    "# Generate some test data\n",
    "x = y_test\n",
    "y = test_predictions\n",
    "\n",
    "heatmap, xedges, yedges = np.histogram2d(x, y, bins=1500, range = [[0, 4], [0, 4]], density = True)\n",
    "extent = [xedges[0], xedges[-1], yedges[0], yedges[-1]]\n",
    "heatmap = gaussian_filter(heatmap, sigma=50)\n",
    "#heatmap = np.log(heatmap+1)\n",
    "\n",
    "plt.clf()\n",
    "_ = plt.plot(lims, lims)\n",
    "plt.imshow(heatmap.T, extent=extent, origin='lower', cmap = 'Blues' )\n",
    "plt.xlabel('True flourescence values, (log)')\n",
    "plt.ylabel('Predicted flourescence values, (log)')"
   ]
  },
  {
   "cell_type": "code",
   "execution_count": 14,
   "id": "f3028c33",
   "metadata": {},
   "outputs": [
    {
     "data": {
      "image/png": "[encoded data removed]",
      "text/plain": [
       "<Figure size 432x288 with 1 Axes>"
      ]
     },
     "metadata": {
      "needs_background": "light"
     },
     "output_type": "display_data"
    }
   ],
   "source": [
    "error = test_predictions - y_test\n",
    "plt.hist(error, bins=100)\n",
    "plt.xlabel('Prediction error (true value - predicted value), (log)')\n",
    "_ = plt.ylabel('Count, n')"
   ]
  },
  {
   "cell_type": "code",
   "execution_count": 17,
   "id": "9c6b6d4d",
   "metadata": {},
   "outputs": [
    {
     "name": "stdout",
     "output_type": "stream",
     "text": [
      "INFO:tensorflow:Assets written to: protvec_final/assets\n"
     ]
    }
   ],
   "source": [
    "model.save(\"protvec_final\")"
   ]
  },
  {
   "cell_type": "code",
   "execution_count": null,
   "id": "e98bef93",
   "metadata": {},
   "outputs": [],
   "source": []
  }
 ],
 "metadata": {
  "kernelspec": {
   "display_name": "Python 3",
   "language": "python",
   "name": "python3"
  },
  "language_info": {
   "codemirror_mode": {
    "name": "ipython",
    "version": 3
   },
   "file_extension": ".py",
   "mimetype": "text/x-python",
   "name": "python",
   "nbconvert_exporter": "python",
   "pygments_lexer": "ipython3",
   "version": "3.8.10"
  }
 },
 "nbformat": 4,
 "nbformat_minor": 5
}
