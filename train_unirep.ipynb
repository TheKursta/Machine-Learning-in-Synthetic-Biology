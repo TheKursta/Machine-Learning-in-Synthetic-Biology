{
 "cells": [
  {
   "cell_type": "code",
   "execution_count": 1,
   "id": "fd969e65",
   "metadata": {},
   "outputs": [],
   "source": [
    "import numpy as np\n",
    "import pandas as pd\n",
    "from sklearn.model_selection import train_test_split\n",
    "import matplotlib.pyplot as plt\n",
    "\n",
    "\n",
    "import tensorflow as tf\n",
    "\n",
    "from tensorflow import keras\n",
    "from tensorflow.keras import layers\n",
    "from tensorflow.keras.layers.experimental import preprocessing\n",
    "\n",
    "import numpy as np\n",
    "import pandas as pd"
   ]
  },
  {
   "cell_type": "code",
   "execution_count": null,
   "id": "4377e008",
   "metadata": {},
   "outputs": [],
   "source": []
  },
  {
   "cell_type": "code",
   "execution_count": 2,
   "id": "e4a57768",
   "metadata": {},
   "outputs": [],
   "source": [
    "input_data = \"./data/unirep_concat.csv\""
   ]
  },
  {
   "cell_type": "code",
   "execution_count": 3,
   "id": "0a0020fe",
   "metadata": {},
   "outputs": [
    {
     "data": {
      "text/html": [
       "<div>\n",
       "<style scoped>\n",
       "    .dataframe tbody tr th:only-of-type {\n",
       "        vertical-align: middle;\n",
       "    }\n",
       "\n",
       "    .dataframe tbody tr th {\n",
       "        vertical-align: top;\n",
       "    }\n",
       "\n",
       "    .dataframe thead th {\n",
       "        text-align: right;\n",
       "    }\n",
       "</style>\n",
       "<table border=\"1\" class=\"dataframe\">\n",
       "  <thead>\n",
       "    <tr style=\"text-align: right;\">\n",
       "      <th></th>\n",
       "      <th>Sequence</th>\n",
       "      <th>Description</th>\n",
       "      <th>Ligand</th>\n",
       "      <th>Data</th>\n",
       "      <th>Units</th>\n",
       "      <th>Assay/Protocol</th>\n",
       "      <th>h_avg</th>\n",
       "      <th>h_final</th>\n",
       "      <th>c_final</th>\n",
       "    </tr>\n",
       "  </thead>\n",
       "  <tbody>\n",
       "    <tr>\n",
       "      <th>0</th>\n",
       "      <td>MSEGEELFAGVVPILVELDGDVNGHKFSVSGEGEGDATYGKLTLKF...</td>\n",
       "      <td>K1E+T7A+V53E+M231K</td>\n",
       "      <td>NaN</td>\n",
       "      <td>1.301</td>\n",
       "      <td>unitless</td>\n",
       "      <td>Brightness</td>\n",
       "      <td>[0.00564064, -0.052851792, 0.0358626, -0.00721...</td>\n",
       "      <td>[0.0015191885, 0.2386941, 0.028036065, -0.0761...</td>\n",
       "      <td>[0.3461519, 1.2724495, 9.289647, -9.280799, 0....</td>\n",
       "    </tr>\n",
       "    <tr>\n",
       "      <th>1</th>\n",
       "      <td>MSEGEELFAGVVPILVELDGDVNGHKFSVSGEGEGDATYGKLTLKF...</td>\n",
       "      <td>K1E+T7A+M76L+M231T</td>\n",
       "      <td>NaN</td>\n",
       "      <td>3.702</td>\n",
       "      <td>unitless</td>\n",
       "      <td>Brightness</td>\n",
       "      <td>[0.0056843236, -0.05248578, 0.03372663, -0.006...</td>\n",
       "      <td>[0.0020418263, 0.11393446, 0.029321756, -0.092...</td>\n",
       "      <td>[0.6894179, 0.57700205, 10.843222, -10.429447,...</td>\n",
       "    </tr>\n",
       "    <tr>\n",
       "      <th>2</th>\n",
       "      <td>MSEGEELFAGVVPILVELDGDVNGHKFSVSGEGEGDATYGKLTLKF...</td>\n",
       "      <td>K1E+T7A+N133D</td>\n",
       "      <td>NaN</td>\n",
       "      <td>3.689</td>\n",
       "      <td>unitless</td>\n",
       "      <td>Brightness</td>\n",
       "      <td>[0.005524612, -0.05465085, 0.03441707, -0.0063...</td>\n",
       "      <td>[0.0007240173, -0.0018453612, 0.032945633, -0....</td>\n",
       "      <td>[0.6594968, -0.01064004, 10.861461, -11.253734...</td>\n",
       "    </tr>\n",
       "    <tr>\n",
       "      <th>3</th>\n",
       "      <td>MSEGEELFPGVVPILVELDGDVNGHKFSVSGEGEGDATYGKLTPKF...</td>\n",
       "      <td>K1E+T7P+L42P+Y180N+T184S+A204T</td>\n",
       "      <td>NaN</td>\n",
       "      <td>1.301</td>\n",
       "      <td>unitless</td>\n",
       "      <td>Brightness</td>\n",
       "      <td>[0.0053566922, -0.035990424, 0.029484132, -0.0...</td>\n",
       "      <td>[0.00034288465, 0.040698383, 0.021684002, -0.0...</td>\n",
       "      <td>[0.30741352, 0.26627296, 10.603406, -10.893406...</td>\n",
       "    </tr>\n",
       "    <tr>\n",
       "      <th>4</th>\n",
       "      <td>MSEGEELFSGVVPILVELDGDVNGHKFSVSGEGEGDATYGKLTLKF...</td>\n",
       "      <td>K1E+T7S+F98Y+K154R+E170G</td>\n",
       "      <td>NaN</td>\n",
       "      <td>3.647</td>\n",
       "      <td>unitless</td>\n",
       "      <td>Brightness</td>\n",
       "      <td>[0.005479858, -0.057007894, 0.034597374, -0.00...</td>\n",
       "      <td>[0.00091315695, 0.026203262, 0.047493752, -0.0...</td>\n",
       "      <td>[0.7880522, 0.2115503, 10.409419, -10.637948, ...</td>\n",
       "    </tr>\n",
       "  </tbody>\n",
       "</table>\n",
       "</div>"
      ],
      "text/plain": [
       "                                            Sequence  \\\n",
       "0  MSEGEELFAGVVPILVELDGDVNGHKFSVSGEGEGDATYGKLTLKF...   \n",
       "1  MSEGEELFAGVVPILVELDGDVNGHKFSVSGEGEGDATYGKLTLKF...   \n",
       "2  MSEGEELFAGVVPILVELDGDVNGHKFSVSGEGEGDATYGKLTLKF...   \n",
       "3  MSEGEELFPGVVPILVELDGDVNGHKFSVSGEGEGDATYGKLTPKF...   \n",
       "4  MSEGEELFSGVVPILVELDGDVNGHKFSVSGEGEGDATYGKLTLKF...   \n",
       "\n",
       "                      Description  Ligand   Data     Units Assay/Protocol  \\\n",
       "0              K1E+T7A+V53E+M231K     NaN  1.301  unitless     Brightness   \n",
       "1              K1E+T7A+M76L+M231T     NaN  3.702  unitless     Brightness   \n",
       "2                   K1E+T7A+N133D     NaN  3.689  unitless     Brightness   \n",
       "3  K1E+T7P+L42P+Y180N+T184S+A204T     NaN  1.301  unitless     Brightness   \n",
       "4        K1E+T7S+F98Y+K154R+E170G     NaN  3.647  unitless     Brightness   \n",
       "\n",
       "                                               h_avg  \\\n",
       "0  [0.00564064, -0.052851792, 0.0358626, -0.00721...   \n",
       "1  [0.0056843236, -0.05248578, 0.03372663, -0.006...   \n",
       "2  [0.005524612, -0.05465085, 0.03441707, -0.0063...   \n",
       "3  [0.0053566922, -0.035990424, 0.029484132, -0.0...   \n",
       "4  [0.005479858, -0.057007894, 0.034597374, -0.00...   \n",
       "\n",
       "                                             h_final  \\\n",
       "0  [0.0015191885, 0.2386941, 0.028036065, -0.0761...   \n",
       "1  [0.0020418263, 0.11393446, 0.029321756, -0.092...   \n",
       "2  [0.0007240173, -0.0018453612, 0.032945633, -0....   \n",
       "3  [0.00034288465, 0.040698383, 0.021684002, -0.0...   \n",
       "4  [0.00091315695, 0.026203262, 0.047493752, -0.0...   \n",
       "\n",
       "                                             c_final  \n",
       "0  [0.3461519, 1.2724495, 9.289647, -9.280799, 0....  \n",
       "1  [0.6894179, 0.57700205, 10.843222, -10.429447,...  \n",
       "2  [0.6594968, -0.01064004, 10.861461, -11.253734...  \n",
       "3  [0.30741352, 0.26627296, 10.603406, -10.893406...  \n",
       "4  [0.7880522, 0.2115503, 10.409419, -10.637948, ...  "
      ]
     },
     "execution_count": 3,
     "metadata": {},
     "output_type": "execute_result"
    }
   ],
   "source": [
    "data = pd.read_csv(input_data)\n",
    "data.head()"
   ]
  },
  {
   "cell_type": "code",
   "execution_count": 4,
   "id": "11e01875",
   "metadata": {},
   "outputs": [
    {
     "name": "stdout",
     "output_type": "stream",
     "text": [
      "24942\n"
     ]
    }
   ],
   "source": [
    "#should return 100 units\n",
    "print(len(data.loc[0,\"h_avg\"]))"
   ]
  },
  {
   "cell_type": "code",
   "execution_count": 5,
   "id": "609b240b",
   "metadata": {},
   "outputs": [
    {
     "name": "stdout",
     "output_type": "stream",
     "text": [
      "0\n"
     ]
    }
   ],
   "source": [
    "#validate data for nans\n",
    "print(data[\"Data\"].isnull().sum())\n",
    "#remove wierd addiitonal dataframe entries that appeared after preprocessing\n",
    "data = data[data['Data'] > 1] "
   ]
  },
  {
   "cell_type": "code",
   "execution_count": 6,
   "id": "5d6246fd",
   "metadata": {},
   "outputs": [],
   "source": [
    "# we select the feature vector and value that we want to train/predict upon\n",
    "embeddings = data[\"h_avg\"].to_numpy()\n",
    "y = data[\"Data\"].to_numpy()\n",
    "\n",
    "# we select test data split\n",
    "X_train, X_test, y_train, y_test = train_test_split(embeddings, y,random_state = 1, shuffle = True, \n",
    "                                                test_size=0.05)\n",
    "\n",
    "# we convert each feature list to be a numpy array\n",
    "def list_2_num(lst):\n",
    "    num = [float(i) for i in lst]\n",
    "    return num\n",
    "    \n",
    "\n",
    "X_train = np.array([np.array(list_2_num(xi[1:-1].split(\",\"))) for xi in X_train])\n",
    "X_test = np.array([np.array(list_2_num(xi[1:-1].split(\",\"))) for xi in X_test])"
   ]
  },
  {
   "cell_type": "code",
   "execution_count": 7,
   "id": "1362d5b1",
   "metadata": {},
   "outputs": [
    {
     "name": "stdout",
     "output_type": "stream",
     "text": [
      "Model: \"sequential\"\n",
      "_________________________________________________________________\n",
      "Layer (type)                 Output Shape              Param #   \n",
      "=================================================================\n",
      "normalization (Normalization (None, 1900)              3801      \n",
      "_________________________________________________________________\n",
      "dense (Dense)                (None, 100)               190100    \n",
      "_________________________________________________________________\n",
      "dense_1 (Dense)              (None, 100)               10100     \n",
      "_________________________________________________________________\n",
      "dense_2 (Dense)              (None, 50)                5050      \n",
      "_________________________________________________________________\n",
      "dense_3 (Dense)              (None, 1)                 51        \n",
      "=================================================================\n",
      "Total params: 209,102\n",
      "Trainable params: 205,301\n",
      "Non-trainable params: 3,801\n",
      "_________________________________________________________________\n"
     ]
    }
   ],
   "source": [
    "#building model\n",
    "\n",
    "#first normaliztion layer is created to push values between -1 and 1\n",
    "#normalizer = preprocessing.Normalization(input_shape=[100,])\n",
    "#normalizer.adapt(X_train)\n",
    "\n",
    "normalizer = preprocessing.Normalization()\n",
    "normalizer.adapt(X_train)\n",
    "normalized_data = normalizer(X_train)\n",
    "\n",
    "#next we build model with 5 hidden layers - [100,50,25,1]\n",
    "model = tf.keras.Sequential([\n",
    "    normalizer,\n",
    "    layers.Dense(units=100, activation = \"sigmoid\"),\n",
    "    layers.Dense(units=100, activation = \"relu\"),\n",
    "    layers.Dense(units=50, activation = \"relu\"),\n",
    "    layers.Dense(units=1)\n",
    "])\n",
    "\n",
    "model.compile(\n",
    "    optimizer=tf.optimizers.Adam(learning_rate=0.0001),\n",
    "    loss='mean_absolute_error', metrics=['mae'])\n",
    "\n",
    "model.summary()"
   ]
  },
  {
   "cell_type": "code",
   "execution_count": 8,
   "id": "b2d4ef19",
   "metadata": {},
   "outputs": [
    {
     "name": "stdout",
     "output_type": "stream",
     "text": [
      "Epoch 1/50\n",
      "1536/1536 [==============================] - 2s 1ms/step - loss: 0.7906 - mae: 0.7906 - val_loss: 0.4103 - val_mae: 0.4103\n",
      "Epoch 2/50\n",
      "1536/1536 [==============================] - 2s 990us/step - loss: 0.3712 - mae: 0.3712 - val_loss: 0.3315 - val_mae: 0.3315\n",
      "Epoch 3/50\n",
      "1536/1536 [==============================] - 2s 981us/step - loss: 0.3142 - mae: 0.3142 - val_loss: 0.3053 - val_mae: 0.3053\n",
      "Epoch 4/50\n",
      "1536/1536 [==============================] - 2s 983us/step - loss: 0.2830 - mae: 0.2830 - val_loss: 0.2980 - val_mae: 0.2980\n",
      "Epoch 5/50\n",
      "1536/1536 [==============================] - 1s 965us/step - loss: 0.2673 - mae: 0.2673 - val_loss: 0.2737 - val_mae: 0.2737\n",
      "Epoch 6/50\n",
      "1536/1536 [==============================] - 1s 962us/step - loss: 0.2519 - mae: 0.2519 - val_loss: 0.2642 - val_mae: 0.2642\n",
      "Epoch 7/50\n",
      "1536/1536 [==============================] - 1s 972us/step - loss: 0.2400 - mae: 0.2400 - val_loss: 0.2512 - val_mae: 0.2512\n",
      "Epoch 8/50\n",
      "1536/1536 [==============================] - 1s 960us/step - loss: 0.2277 - mae: 0.2277 - val_loss: 0.2612 - val_mae: 0.2612\n",
      "Epoch 9/50\n",
      "1536/1536 [==============================] - 2s 987us/step - loss: 0.2236 - mae: 0.2236 - val_loss: 0.2432 - val_mae: 0.2432\n",
      "Epoch 10/50\n",
      "1536/1536 [==============================] - 1s 949us/step - loss: 0.2177 - mae: 0.2177 - val_loss: 0.2378 - val_mae: 0.2378\n",
      "Epoch 11/50\n",
      "1536/1536 [==============================] - 2s 980us/step - loss: 0.2131 - mae: 0.2131 - val_loss: 0.2485 - val_mae: 0.2485\n",
      "Epoch 12/50\n",
      "1536/1536 [==============================] - 2s 989us/step - loss: 0.2092 - mae: 0.2092 - val_loss: 0.2379 - val_mae: 0.2379\n",
      "Epoch 13/50\n",
      "1536/1536 [==============================] - 1s 959us/step - loss: 0.1999 - mae: 0.1999 - val_loss: 0.2342 - val_mae: 0.2342\n",
      "Epoch 14/50\n",
      "1536/1536 [==============================] - 1s 966us/step - loss: 0.1998 - mae: 0.1998 - val_loss: 0.2339 - val_mae: 0.2339\n",
      "Epoch 15/50\n",
      "1536/1536 [==============================] - 1s 946us/step - loss: 0.1939 - mae: 0.1939 - val_loss: 0.2222 - val_mae: 0.2222\n",
      "Epoch 16/50\n",
      "1536/1536 [==============================] - 2s 985us/step - loss: 0.1926 - mae: 0.1926 - val_loss: 0.2290 - val_mae: 0.2290\n",
      "Epoch 17/50\n",
      "1536/1536 [==============================] - 2s 989us/step - loss: 0.1902 - mae: 0.1902 - val_loss: 0.2197 - val_mae: 0.2197\n",
      "Epoch 18/50\n",
      "1536/1536 [==============================] - 1s 965us/step - loss: 0.1857 - mae: 0.1857 - val_loss: 0.2106 - val_mae: 0.2106\n",
      "Epoch 19/50\n",
      "1536/1536 [==============================] - 2s 1ms/step - loss: 0.1822 - mae: 0.1822 - val_loss: 0.2249 - val_mae: 0.2249\n",
      "Epoch 20/50\n",
      "1536/1536 [==============================] - 2s 1ms/step - loss: 0.1796 - mae: 0.1796 - val_loss: 0.2140 - val_mae: 0.2140\n",
      "Epoch 21/50\n",
      "1536/1536 [==============================] - 2s 1ms/step - loss: 0.1760 - mae: 0.1760 - val_loss: 0.2184 - val_mae: 0.2184\n",
      "Epoch 22/50\n",
      "1536/1536 [==============================] - 2s 1ms/step - loss: 0.1754 - mae: 0.1754 - val_loss: 0.2148 - val_mae: 0.2148\n",
      "Epoch 23/50\n",
      "1536/1536 [==============================] - 2s 1ms/step - loss: 0.1755 - mae: 0.1755 - val_loss: 0.2062 - val_mae: 0.2062\n",
      "Epoch 24/50\n",
      "1536/1536 [==============================] - 2s 1ms/step - loss: 0.1690 - mae: 0.1690 - val_loss: 0.2113 - val_mae: 0.2113\n",
      "Epoch 25/50\n",
      "1536/1536 [==============================] - 2s 1ms/step - loss: 0.1682 - mae: 0.1682 - val_loss: 0.2119 - val_mae: 0.2119\n",
      "Epoch 26/50\n",
      "1536/1536 [==============================] - 2s 1ms/step - loss: 0.1662 - mae: 0.1662 - val_loss: 0.2258 - val_mae: 0.2258\n",
      "Epoch 27/50\n",
      "1536/1536 [==============================] - 2s 1ms/step - loss: 0.1632 - mae: 0.1632 - val_loss: 0.2073 - val_mae: 0.2073\n",
      "Epoch 28/50\n",
      "1536/1536 [==============================] - 2s 1ms/step - loss: 0.1604 - mae: 0.1604 - val_loss: 0.2051 - val_mae: 0.2051\n",
      "Epoch 29/50\n",
      "1536/1536 [==============================] - 2s 1ms/step - loss: 0.1602 - mae: 0.1602 - val_loss: 0.2067 - val_mae: 0.2067\n",
      "Epoch 30/50\n",
      "1536/1536 [==============================] - 2s 1ms/step - loss: 0.1577 - mae: 0.1577 - val_loss: 0.2115 - val_mae: 0.2115\n",
      "Epoch 31/50\n",
      "1536/1536 [==============================] - 2s 1ms/step - loss: 0.1568 - mae: 0.1568 - val_loss: 0.2067 - val_mae: 0.2067\n",
      "Epoch 32/50\n",
      "1536/1536 [==============================] - 2s 1ms/step - loss: 0.1541 - mae: 0.1541 - val_loss: 0.2060 - val_mae: 0.2060\n",
      "Epoch 33/50\n",
      "1536/1536 [==============================] - 2s 1ms/step - loss: 0.1559 - mae: 0.1559 - val_loss: 0.2115 - val_mae: 0.2115\n",
      "Epoch 34/50\n",
      "1536/1536 [==============================] - 2s 1ms/step - loss: 0.1533 - mae: 0.1533 - val_loss: 0.2011 - val_mae: 0.2011\n",
      "Epoch 35/50\n",
      "1536/1536 [==============================] - 2s 1ms/step - loss: 0.1453 - mae: 0.1453 - val_loss: 0.2019 - val_mae: 0.2019\n",
      "Epoch 36/50\n",
      "1536/1536 [==============================] - 2s 1ms/step - loss: 0.1487 - mae: 0.1487 - val_loss: 0.2036 - val_mae: 0.2036\n",
      "Epoch 37/50\n",
      "1536/1536 [==============================] - 2s 1ms/step - loss: 0.1455 - mae: 0.1455 - val_loss: 0.2154 - val_mae: 0.2154\n",
      "Epoch 38/50\n",
      "1536/1536 [==============================] - 2s 1ms/step - loss: 0.1452 - mae: 0.1452 - val_loss: 0.2011 - val_mae: 0.2011\n",
      "Epoch 39/50\n",
      "1536/1536 [==============================] - 2s 1ms/step - loss: 0.1451 - mae: 0.1451 - val_loss: 0.2011 - val_mae: 0.2011\n",
      "Epoch 40/50\n",
      "1536/1536 [==============================] - 2s 1ms/step - loss: 0.1414 - mae: 0.1414 - val_loss: 0.2014 - val_mae: 0.2014\n",
      "Epoch 41/50\n",
      "1536/1536 [==============================] - 2s 993us/step - loss: 0.1410 - mae: 0.1410 - val_loss: 0.2065 - val_mae: 0.2065\n",
      "Epoch 42/50\n",
      "1536/1536 [==============================] - 2s 991us/step - loss: 0.1395 - mae: 0.1395 - val_loss: 0.1997 - val_mae: 0.1997\n",
      "Epoch 43/50\n",
      "1536/1536 [==============================] - 2s 1ms/step - loss: 0.1385 - mae: 0.1385 - val_loss: 0.2010 - val_mae: 0.2010\n",
      "Epoch 44/50\n",
      "1536/1536 [==============================] - 2s 1ms/step - loss: 0.1360 - mae: 0.1360 - val_loss: 0.2001 - val_mae: 0.2001\n",
      "Epoch 45/50\n",
      "1536/1536 [==============================] - 2s 1ms/step - loss: 0.1350 - mae: 0.1350 - val_loss: 0.2019 - val_mae: 0.2019\n",
      "Epoch 46/50\n",
      "1536/1536 [==============================] - 2s 1ms/step - loss: 0.1333 - mae: 0.1333 - val_loss: 0.2063 - val_mae: 0.2063\n",
      "Epoch 47/50\n",
      "1536/1536 [==============================] - 2s 991us/step - loss: 0.1337 - mae: 0.1337 - val_loss: 0.1992 - val_mae: 0.1992\n",
      "Epoch 48/50\n",
      "1536/1536 [==============================] - 2s 987us/step - loss: 0.1321 - mae: 0.1321 - val_loss: 0.1946 - val_mae: 0.1946\n",
      "Epoch 49/50\n",
      "1536/1536 [==============================] - 2s 1ms/step - loss: 0.1322 - mae: 0.1322 - val_loss: 0.1969 - val_mae: 0.1969\n",
      "Epoch 50/50\n",
      "1536/1536 [==============================] - 2s 989us/step - loss: 0.1295 - mae: 0.1295 - val_loss: 0.1963 - val_mae: 0.1963\n"
     ]
    }
   ],
   "source": [
    "history = model.fit(\n",
    "    X_train, y_train,\n",
    "    epochs=50,\n",
    "    verbose=1,\n",
    "    validation_data = (X_test, y_test)\n",
    "    \n",
    "    #We make additional 20% validation split to calculate metrics during training\n",
    "    #validation_split = 0.2\n",
    "    )\n"
   ]
  },
  {
   "cell_type": "code",
   "execution_count": 9,
   "id": "beb4b05e",
   "metadata": {},
   "outputs": [
    {
     "data": {
      "image/png": "[encoded data removed]",
      "text/plain": [
       "<Figure size 432x288 with 1 Axes>"
      ]
     },
     "metadata": {
      "needs_background": "light"
     },
     "output_type": "display_data"
    }
   ],
   "source": [
    "#validation results\n",
    "def plot_loss(history):\n",
    "    plt.plot(history.history['loss'], label='loss')\n",
    "    plt.plot(history.history['val_loss'], label='test_loss')\n",
    "    plt.ylim([0, 1])\n",
    "    plt.xlabel('Epoch, n')\n",
    "    plt.ylabel('Error, mse')\n",
    "    plt.legend()\n",
    "    plt.grid(True)\n",
    "\n",
    "plot_loss(history)"
   ]
  },
  {
   "cell_type": "code",
   "execution_count": 15,
   "id": "a0d0e046",
   "metadata": {},
   "outputs": [
    {
     "data": {
      "text/plain": [
       "Text(0, 0.5, 'Predicted flourescence values, (log)')"
      ]
     },
     "execution_count": 15,
     "metadata": {},
     "output_type": "execute_result"
    },
    {
     "data": {
      "image/png": "[encoded data removed]",
      "text/plain": [
       "<Figure size 432x288 with 1 Axes>"
      ]
     },
     "metadata": {
      "needs_background": "light"
     },
     "output_type": "display_data"
    }
   ],
   "source": [
    "import numpy as np\n",
    "import numpy.random\n",
    "import matplotlib.pyplot as plt\n",
    "from scipy.ndimage.filters import gaussian_filter\n",
    "\n",
    "test_predictions = model.predict(X_test).flatten()\n",
    "\n",
    "# Generate some test data\n",
    "x = y_test\n",
    "y = test_predictions\n",
    "lims = [0, 4.3]\n",
    "\n",
    "heatmap, xedges, yedges = np.histogram2d(x, y, bins=1500, range = [[0, 4], [0, 4]], density = True)\n",
    "extent = [xedges[0], xedges[-1], yedges[0], yedges[-1]]\n",
    "heatmap = gaussian_filter(heatmap, sigma=50)\n",
    "#heatmap = np.log(heatmap+1)\n",
    "\n",
    "plt.clf()\n",
    "_ = plt.plot(lims, lims)\n",
    "plt.imshow(heatmap.T, extent=extent, origin='lower', cmap = 'Blues' )\n",
    "plt.xlabel('True flourescence values, (log)')\n",
    "plt.ylabel('Predicted flourescence values, (log)')"
   ]
  },
  {
   "cell_type": "code",
   "execution_count": 16,
   "id": "f3028c33",
   "metadata": {},
   "outputs": [
    {
     "data": {
      "image/png": "[encoded data removed]",
      "text/plain": [
       "<Figure size 432x288 with 1 Axes>"
      ]
     },
     "metadata": {
      "needs_background": "light"
     },
     "output_type": "display_data"
    }
   ],
   "source": [
    "error = test_predictions - y_test\n",
    "plt.hist(error, bins=100)\n",
    "plt.xlabel('Prediction error (true value - predicted value), (log)')\n",
    "_ = plt.ylabel('Count, n')"
   ]
  },
  {
   "cell_type": "code",
   "execution_count": 17,
   "id": "9c6b6d4d",
   "metadata": {},
   "outputs": [
    {
     "name": "stdout",
     "output_type": "stream",
     "text": [
      "INFO:tensorflow:Assets written to: unirep_final/assets\n"
     ]
    }
   ],
   "source": [
    "model.save(\"unirep_final\")"
   ]
  },
  {
   "cell_type": "code",
   "execution_count": null,
   "id": "e98bef93",
   "metadata": {},
   "outputs": [],
   "source": []
  }
 ],
 "metadata": {
  "kernelspec": {
   "display_name": "Python 3",
   "language": "python",
   "name": "python3"
  },
  "language_info": {
   "codemirror_mode": {
    "name": "ipython",
    "version": 3
   },
   "file_extension": ".py",
   "mimetype": "text/x-python",
   "name": "python",
   "nbconvert_exporter": "python",
   "pygments_lexer": "ipython3",
   "version": "3.8.10"
  }
 },
 "nbformat": 4,
 "nbformat_minor": 5
}
